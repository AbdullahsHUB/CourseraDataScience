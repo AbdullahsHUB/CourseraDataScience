{
 "cells": [
  {
   "cell_type": "markdown",
   "metadata": {},
   "source": [
    "# Data Science Tools and Ecosystem"
   ]
  },
  {
   "cell_type": "markdown",
   "metadata": {},
   "source": [
    "In this notebook, Data Science Tools and Ecosystem are summarized"
   ]
  },
  {
   "cell_type": "markdown",
   "metadata": {},
   "source": [
    "Some of the popular languages that Data Scientists use are:\n",
    "\n",
    "1. Python\n",
    "2. R\n",
    "3. SQL\n",
    "4. Java\n",
    "5. Julia\n",
    "6. Scala\n",
    "7. C/C++\n",
    "8. JavaScript\n",
    "9. Swift\n",
    "10. Go\n",
    "11. MATLAB\n",
    "12. SAS"
   ]
  },
  {
   "cell_type": "markdown",
   "metadata": {},
   "source": [
    "**OBJECTIVES**\n",
    "\n",
    "Populor Languages Used in Data Science:\n",
    "+ Python\n",
    "+ R\n",
    "+ SQL\n",
    "+ Java\n",
    "+ Julia\n",
    "\n",
    "Common Libraries Used in Data Science:\n",
    "+ Scrapy\n",
    "+ Numpy\n",
    "+ SciPy\n",
    "+ Pandas\n",
    "+ ggplot"
   ]
  },
  {
   "cell_type": "markdown",
   "metadata": {},
   "source": [
    "Some of the commonly used libraries used by Data Scientists are:\n",
    "\n",
    "1. Scrapy\n",
    "2. BeautifulSoup\n",
    "3. NumPy\n",
    "4. SciPy\n",
    "5. Pandas\n",
    "6. Keras\n",
    "7. SciKit-Learn\n",
    "8. PyTorch\n",
    "9. TensorFlow\n",
    "10. XGBoost\n",
    "11. Matplotlib\n",
    "12. Seaborn\n",
    "13. Bokeh\n",
    "14. Plotly\n",
    "15. pydot\n",
    "16. ggplot\n",
    "17. caret"
   ]
  },
  {
   "cell_type": "markdown",
   "metadata": {},
   "source": [
    "|Data Science Tools|\n",
    "|:-----:|\n",
    "|JupyterLab Notebook & Jupyter Notebook|\n",
    "|Spyder|\n",
    "|Visual Studio|\n",
    "|Zeppelin Notebooks|\n",
    "|R Studio’s|"
   ]
  },
  {
   "cell_type": "markdown",
   "metadata": {},
   "source": [
    "### Below are a few examples of evaluating arithmetic expressions in Python"
   ]
  },
  {
   "cell_type": "code",
   "execution_count": 1,
   "metadata": {
    "scrolled": true
   },
   "outputs": [
    {
     "data": {
      "text/plain": [
       "17"
      ]
     },
     "execution_count": 1,
     "metadata": {},
     "output_type": "execute_result"
    }
   ],
   "source": [
    "## This is simple arithmetic expression to multiply then add integers.\n",
    "\n",
    "(3*4)+5"
   ]
  },
  {
   "cell_type": "code",
   "execution_count": 9,
   "metadata": {},
   "outputs": [
    {
     "name": "stdout",
     "output_type": "stream",
     "text": [
      "The total is 3.3333333333333335  Hours\n"
     ]
    }
   ],
   "source": [
    "## This expression converts 200 minutes to hours by dividing by 60.\n",
    "\n",
    "minutes=200\n",
    "divisor=60\n",
    "hours=minutes/divisor\n",
    "print(\"The total is\",hours,\" Hours\")"
   ]
  },
  {
   "cell_type": "markdown",
   "metadata": {},
   "source": [
    "## Author:\n",
    "\n",
    "Abdullah"
   ]
  }
 ],
 "metadata": {
  "kernelspec": {
   "display_name": "Python 3 (ipykernel)",
   "language": "python",
   "name": "python3"
  },
  "language_info": {
   "codemirror_mode": {
    "name": "ipython",
    "version": 3
   },
   "file_extension": ".py",
   "mimetype": "text/x-python",
   "name": "python",
   "nbconvert_exporter": "python",
   "pygments_lexer": "ipython3",
   "version": "3.11.5"
  }
 },
 "nbformat": 4,
 "nbformat_minor": 2
}
